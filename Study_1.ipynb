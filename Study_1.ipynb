{
  "nbformat": 4,
  "nbformat_minor": 0,
  "metadata": {
    "colab": {
      "name": "Study-1.ipynb의 사본",
      "provenance": [],
      "mount_file_id": "1AC2fxf0kPQtcGbsThxGfg2ZFthU53rJy",
      "authorship_tag": "ABX9TyMF+smqZ+pFTJgeSfQ9GQRl",
      "include_colab_link": true
    },
    "kernelspec": {
      "name": "python3",
      "display_name": "Python 3"
    },
    "language_info": {
      "name": "python"
    }
  },
  "cells": [
    {
      "cell_type": "markdown",
      "metadata": {
        "id": "view-in-github",
        "colab_type": "text"
      },
      "source": [
        "<a href=\"https://colab.research.google.com/github/saicham/study/blob/main/Study_1.ipynb\" target=\"_parent\"><img src=\"https://colab.research.google.com/assets/colab-badge.svg\" alt=\"Open In Colab\"/></a>"
      ]
    },
    {
      "cell_type": "code",
      "metadata": {
        "id": "a8O3XSVzTIlA"
      },
      "source": [
        "# study 1st"
      ],
      "execution_count": null,
      "outputs": []
    }
  ]
}